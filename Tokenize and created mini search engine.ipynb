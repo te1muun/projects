{
 "cells": [
  {
   "cell_type": "code",
   "execution_count": 1,
   "metadata": {},
   "outputs": [],
   "source": [
    "import os\n",
    "import re\n",
    "from bs4 import BeautifulSoup\n",
    "from collections import defaultdict\n",
    "from nltk.tokenize import word_tokenize\n",
    "from nltk.corpus import stopwords\n",
    "from nltk.stem import PorterStemmer\n",
    "from nltk.metrics import edit_distance"
   ]
  },
  {
   "cell_type": "code",
   "execution_count": 2,
   "metadata": {},
   "outputs": [
    {
     "name": "stderr",
     "output_type": "stream",
     "text": [
      "[nltk_data] Downloading package punkt to\n",
      "[nltk_data]     C:\\Users\\telmu\\AppData\\Roaming\\nltk_data...\n",
      "[nltk_data]   Package punkt is already up-to-date!\n",
      "[nltk_data] Downloading package stopwords to\n",
      "[nltk_data]     C:\\Users\\telmu\\AppData\\Roaming\\nltk_data...\n",
      "[nltk_data]   Package stopwords is already up-to-date!\n"
     ]
    },
    {
     "data": {
      "text/plain": [
       "True"
      ]
     },
     "execution_count": 2,
     "metadata": {},
     "output_type": "execute_result"
    }
   ],
   "source": [
    "import nltk\n",
    "nltk.download('punkt')\n",
    "nltk.download('stopwords')"
   ]
  },
  {
   "cell_type": "code",
   "execution_count": 3,
   "metadata": {},
   "outputs": [],
   "source": [
    "def extract_content(html_path):\n",
    "    with open(html_path, 'r', encoding='utf-8') as file:\n",
    "        soup = BeautifulSoup(file, 'html.parser')\n",
    "        paragraphs = soup.find_all('p')\n",
    "        content = ' '.join([p.get_text() for p in paragraphs])\n",
    "        return content"
   ]
  },
  {
   "cell_type": "code",
   "execution_count": 4,
   "metadata": {},
   "outputs": [],
   "source": [
    "def tokenize_sentences(content):\n",
    "    sentences = re.split(r'[.!?]', content)\n",
    "    tokenized_sentences = [word_tokenize(sentence) for sentence in sentences]\n",
    "    return tokenized_sentences"
   ]
  },
  {
   "cell_type": "code",
   "execution_count": 6,
   "metadata": {},
   "outputs": [],
   "source": [
    "def create_inverted_index(tokenized_sentences):\n",
    "    inverted_index = defaultdict(list)\n",
    "    stop_words = set(stopwords.words('english'))\n",
    "    ps = PorterStemmer()\n",
    "\n",
    "    for i, sentence in enumerate(tokenized_sentences):\n",
    "        for j, word in enumerate(sentence):\n",
    "            # Removing stop words and stemming\n",
    "            if word.lower() not in stop_words:\n",
    "                stemmed_word = ps.stem(word.lower())\n",
    "                inverted_index[stemmed_word].append((i, j))\n",
    "\n",
    "    return inverted_index"
   ]
  },
  {
   "cell_type": "code",
   "execution_count": 7,
   "metadata": {},
   "outputs": [],
   "source": [
    "def country_search(keyword, inverted_index):\n",
    "    keyword = PorterStemmer().stem(keyword.lower())\n",
    "    return [doc for doc, positions in inverted_index[keyword]]"
   ]
  },
  {
   "cell_type": "code",
   "execution_count": 8,
   "metadata": {},
   "outputs": [],
   "source": [
    "def compute_edit_distance(str1, str2):\n",
    "    return edit_distance(str1, str2)"
   ]
  },
  {
   "cell_type": "code",
   "execution_count": 9,
   "metadata": {},
   "outputs": [],
   "source": [
    "def fuzzy_search(keyword, inverted_index):\n",
    "    keyword = PorterStemmer().stem(keyword.lower())\n",
    "    results = defaultdict(int)\n",
    "\n",
    "    for term in inverted_index.keys():\n",
    "        distance = compute_edit_distance(keyword, term)\n",
    "        if distance <= 2:  \n",
    "            for doc, positions in inverted_index[term]:\n",
    "                results[doc] += 1\n",
    "\n",
    "    return max(results, key=results.get)"
   ]
  },
  {
   "cell_type": "code",
   "execution_count": null,
   "metadata": {},
   "outputs": [],
   "source": [
    "if __name__ == \"__main__\":\n",
    "    \n",
    "    folder_path = 'countries'\n",
    "    html_files = [f for f in os.listdir(folder_path) if f.endswith('.html')]\n",
    "\n",
    "    inverted_index_all = {}\n",
    "\n",
    "    for file_name in html_files:\n",
    "        file_path = os.path.join(folder_path, file_name)\n",
    "        content = extract_content(file_path)\n",
    "        tokenized_sentences = tokenize_sentences(content)\n",
    "        inverted_index = create_inverted_index(tokenized_sentences)\n",
    "        inverted_index_all[file_name] = inverted_index\n",
    "\n",
    "    \n",
    "    keyword = 'Toronto'\n",
    "    search_result = country_search(keyword, inverted_index_all)\n",
    "    print(f\"Search result for '{keyword}': {search_result}\")\n",
    "\n",
    "    fuzzy_result = fuzzy_search('Toronta', inverted_index_all)\n",
    "    print(f\"Fuzzy search result for 'Toronta': {fuzzy_result}\")"
   ]
  }
 ],
 "metadata": {
  "kernelspec": {
   "display_name": "Python 3",
   "language": "python",
   "name": "python3"
  },
  "language_info": {
   "codemirror_mode": {
    "name": "ipython",
    "version": 3
   },
   "file_extension": ".py",
   "mimetype": "text/x-python",
   "name": "python",
   "nbconvert_exporter": "python",
   "pygments_lexer": "ipython3",
   "version": "3.10.11"
  }
 },
 "nbformat": 4,
 "nbformat_minor": 2
}
